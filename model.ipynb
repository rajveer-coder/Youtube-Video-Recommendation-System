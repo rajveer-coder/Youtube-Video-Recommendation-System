{
  "nbformat": 4,
  "nbformat_minor": 0,
  "metadata": {
    "colab": {
      "name": "model.ipynb",
      "provenance": []
    },
    "kernelspec": {
      "name": "python3",
      "display_name": "Python 3"
    },
    "language_info": {
      "name": "python"
    }
  },
  "cells": [
    {
      "cell_type": "code",
      "metadata": {
        "colab": {
          "base_uri": "https://localhost:8080/"
        },
        "id": "wgMhadvvfCpm",
        "outputId": "12b5c00b-c2d6-4d80-ecc4-7542723eb77f"
      },
      "source": [
        "!pip install turicreate"
      ],
      "execution_count": 1,
      "outputs": [
        {
          "output_type": "stream",
          "text": [
            "Requirement already satisfied: turicreate in /usr/local/lib/python3.7/dist-packages (6.4.1)\n",
            "Requirement already satisfied: numba<0.51.0 in /usr/local/lib/python3.7/dist-packages (from turicreate) (0.50.1)\n",
            "Requirement already satisfied: tensorflow<2.1.0,>=2.0.0 in /usr/local/lib/python3.7/dist-packages (from turicreate) (2.0.4)\n",
            "Requirement already satisfied: six>=1.10.0 in /usr/local/lib/python3.7/dist-packages (from turicreate) (1.15.0)\n",
            "Requirement already satisfied: pandas>=0.23.2 in /usr/local/lib/python3.7/dist-packages (from turicreate) (1.1.5)\n",
            "Requirement already satisfied: pillow>=5.2.0 in /usr/local/lib/python3.7/dist-packages (from turicreate) (7.1.2)\n",
            "Requirement already satisfied: scipy>=1.1.0 in /usr/local/lib/python3.7/dist-packages (from turicreate) (1.4.1)\n",
            "Requirement already satisfied: decorator>=4.0.9 in /usr/local/lib/python3.7/dist-packages (from turicreate) (4.4.2)\n",
            "Requirement already satisfied: requests>=2.9.1 in /usr/local/lib/python3.7/dist-packages (from turicreate) (2.23.0)\n",
            "Requirement already satisfied: resampy==0.2.1 in /usr/local/lib/python3.7/dist-packages (from turicreate) (0.2.1)\n",
            "Requirement already satisfied: coremltools==3.3 in /usr/local/lib/python3.7/dist-packages (from turicreate) (3.3)\n",
            "Requirement already satisfied: numpy in /usr/local/lib/python3.7/dist-packages (from turicreate) (1.18.5)\n",
            "Requirement already satisfied: prettytable==0.7.2 in /usr/local/lib/python3.7/dist-packages (from turicreate) (0.7.2)\n",
            "Requirement already satisfied: protobuf>=3.1.0 in /usr/local/lib/python3.7/dist-packages (from coremltools==3.3->turicreate) (3.17.3)\n",
            "Requirement already satisfied: llvmlite<0.34,>=0.33.0.dev0 in /usr/local/lib/python3.7/dist-packages (from numba<0.51.0->turicreate) (0.33.0)\n",
            "Requirement already satisfied: setuptools in /usr/local/lib/python3.7/dist-packages (from numba<0.51.0->turicreate) (57.2.0)\n",
            "Requirement already satisfied: python-dateutil>=2.7.3 in /usr/local/lib/python3.7/dist-packages (from pandas>=0.23.2->turicreate) (2.8.1)\n",
            "Requirement already satisfied: pytz>=2017.2 in /usr/local/lib/python3.7/dist-packages (from pandas>=0.23.2->turicreate) (2018.9)\n",
            "Requirement already satisfied: idna<3,>=2.5 in /usr/local/lib/python3.7/dist-packages (from requests>=2.9.1->turicreate) (2.10)\n",
            "Requirement already satisfied: chardet<4,>=3.0.2 in /usr/local/lib/python3.7/dist-packages (from requests>=2.9.1->turicreate) (3.0.4)\n",
            "Requirement already satisfied: certifi>=2017.4.17 in /usr/local/lib/python3.7/dist-packages (from requests>=2.9.1->turicreate) (2021.5.30)\n",
            "Requirement already satisfied: urllib3!=1.25.0,!=1.25.1,<1.26,>=1.21.1 in /usr/local/lib/python3.7/dist-packages (from requests>=2.9.1->turicreate) (1.24.3)\n",
            "Requirement already satisfied: opt-einsum>=2.3.2 in /usr/local/lib/python3.7/dist-packages (from tensorflow<2.1.0,>=2.0.0->turicreate) (3.3.0)\n",
            "Requirement already satisfied: wrapt>=1.11.1 in /usr/local/lib/python3.7/dist-packages (from tensorflow<2.1.0,>=2.0.0->turicreate) (1.12.1)\n",
            "Requirement already satisfied: termcolor>=1.1.0 in /usr/local/lib/python3.7/dist-packages (from tensorflow<2.1.0,>=2.0.0->turicreate) (1.1.0)\n",
            "Requirement already satisfied: keras-applications>=1.0.8 in /usr/local/lib/python3.7/dist-packages (from tensorflow<2.1.0,>=2.0.0->turicreate) (1.0.8)\n",
            "Requirement already satisfied: astor>=0.6.0 in /usr/local/lib/python3.7/dist-packages (from tensorflow<2.1.0,>=2.0.0->turicreate) (0.8.1)\n",
            "Requirement already satisfied: absl-py>=0.7.0 in /usr/local/lib/python3.7/dist-packages (from tensorflow<2.1.0,>=2.0.0->turicreate) (0.12.0)\n",
            "Requirement already satisfied: grpcio>=1.8.6 in /usr/local/lib/python3.7/dist-packages (from tensorflow<2.1.0,>=2.0.0->turicreate) (1.34.1)\n",
            "Requirement already satisfied: gast==0.2.2 in /usr/local/lib/python3.7/dist-packages (from tensorflow<2.1.0,>=2.0.0->turicreate) (0.2.2)\n",
            "Requirement already satisfied: h5py<=2.10.0 in /usr/local/lib/python3.7/dist-packages (from tensorflow<2.1.0,>=2.0.0->turicreate) (2.10.0)\n",
            "Requirement already satisfied: keras-preprocessing>=1.0.5 in /usr/local/lib/python3.7/dist-packages (from tensorflow<2.1.0,>=2.0.0->turicreate) (1.1.2)\n",
            "Requirement already satisfied: tensorboard<2.1.0,>=2.0.0 in /usr/local/lib/python3.7/dist-packages (from tensorflow<2.1.0,>=2.0.0->turicreate) (2.0.2)\n",
            "Requirement already satisfied: wheel>=0.26 in /usr/local/lib/python3.7/dist-packages (from tensorflow<2.1.0,>=2.0.0->turicreate) (0.36.2)\n",
            "Requirement already satisfied: google-pasta>=0.1.6 in /usr/local/lib/python3.7/dist-packages (from tensorflow<2.1.0,>=2.0.0->turicreate) (0.2.0)\n",
            "Requirement already satisfied: tensorflow-estimator<2.1.0,>=2.0.0 in /usr/local/lib/python3.7/dist-packages (from tensorflow<2.1.0,>=2.0.0->turicreate) (2.0.1)\n",
            "Requirement already satisfied: google-auth<2,>=1.6.3 in /usr/local/lib/python3.7/dist-packages (from tensorboard<2.1.0,>=2.0.0->tensorflow<2.1.0,>=2.0.0->turicreate) (1.32.1)\n",
            "Requirement already satisfied: werkzeug>=0.11.15 in /usr/local/lib/python3.7/dist-packages (from tensorboard<2.1.0,>=2.0.0->tensorflow<2.1.0,>=2.0.0->turicreate) (1.0.1)\n",
            "Requirement already satisfied: google-auth-oauthlib<0.5,>=0.4.1 in /usr/local/lib/python3.7/dist-packages (from tensorboard<2.1.0,>=2.0.0->tensorflow<2.1.0,>=2.0.0->turicreate) (0.4.4)\n",
            "Requirement already satisfied: markdown>=2.6.8 in /usr/local/lib/python3.7/dist-packages (from tensorboard<2.1.0,>=2.0.0->tensorflow<2.1.0,>=2.0.0->turicreate) (3.3.4)\n",
            "Requirement already satisfied: cachetools<5.0,>=2.0.0 in /usr/local/lib/python3.7/dist-packages (from google-auth<2,>=1.6.3->tensorboard<2.1.0,>=2.0.0->tensorflow<2.1.0,>=2.0.0->turicreate) (4.2.2)\n",
            "Requirement already satisfied: rsa<5,>=3.1.4 in /usr/local/lib/python3.7/dist-packages (from google-auth<2,>=1.6.3->tensorboard<2.1.0,>=2.0.0->tensorflow<2.1.0,>=2.0.0->turicreate) (4.7.2)\n",
            "Requirement already satisfied: pyasn1-modules>=0.2.1 in /usr/local/lib/python3.7/dist-packages (from google-auth<2,>=1.6.3->tensorboard<2.1.0,>=2.0.0->tensorflow<2.1.0,>=2.0.0->turicreate) (0.2.8)\n",
            "Requirement already satisfied: requests-oauthlib>=0.7.0 in /usr/local/lib/python3.7/dist-packages (from google-auth-oauthlib<0.5,>=0.4.1->tensorboard<2.1.0,>=2.0.0->tensorflow<2.1.0,>=2.0.0->turicreate) (1.3.0)\n",
            "Requirement already satisfied: importlib-metadata in /usr/local/lib/python3.7/dist-packages (from markdown>=2.6.8->tensorboard<2.1.0,>=2.0.0->tensorflow<2.1.0,>=2.0.0->turicreate) (4.6.1)\n",
            "Requirement already satisfied: pyasn1<0.5.0,>=0.4.6 in /usr/local/lib/python3.7/dist-packages (from pyasn1-modules>=0.2.1->google-auth<2,>=1.6.3->tensorboard<2.1.0,>=2.0.0->tensorflow<2.1.0,>=2.0.0->turicreate) (0.4.8)\n",
            "Requirement already satisfied: oauthlib>=3.0.0 in /usr/local/lib/python3.7/dist-packages (from requests-oauthlib>=0.7.0->google-auth-oauthlib<0.5,>=0.4.1->tensorboard<2.1.0,>=2.0.0->tensorflow<2.1.0,>=2.0.0->turicreate) (3.1.1)\n",
            "Requirement already satisfied: zipp>=0.5 in /usr/local/lib/python3.7/dist-packages (from importlib-metadata->markdown>=2.6.8->tensorboard<2.1.0,>=2.0.0->tensorflow<2.1.0,>=2.0.0->turicreate) (3.5.0)\n",
            "Requirement already satisfied: typing-extensions>=3.6.4 in /usr/local/lib/python3.7/dist-packages (from importlib-metadata->markdown>=2.6.8->tensorboard<2.1.0,>=2.0.0->tensorflow<2.1.0,>=2.0.0->turicreate) (3.7.4.3)\n"
          ],
          "name": "stdout"
        }
      ]
    },
    {
      "cell_type": "code",
      "metadata": {
        "colab": {
          "base_uri": "https://localhost:8080/"
        },
        "id": "oSszd-9Bf21G",
        "outputId": "cef02aa2-ee29-4593-97f4-40890280b96c"
      },
      "source": [
        "import nltk \n",
        "nltk.download()"
      ],
      "execution_count": 2,
      "outputs": [
        {
          "output_type": "stream",
          "text": [
            "NLTK Downloader\n",
            "---------------------------------------------------------------------------\n",
            "    d) Download   l) List    u) Update   c) Config   h) Help   q) Quit\n",
            "---------------------------------------------------------------------------\n",
            "Downloader> d\n",
            "\n",
            "Download which package (l=list; x=cancel)?\n",
            "  Identifier> l\n",
            "Packages:\n",
            "  [ ] abc................. Australian Broadcasting Commission 2006\n",
            "  [ ] alpino.............. Alpino Dutch Treebank\n",
            "  [ ] averaged_perceptron_tagger Averaged Perceptron Tagger\n",
            "  [ ] averaged_perceptron_tagger_ru Averaged Perceptron Tagger (Russian)\n",
            "  [ ] basque_grammars..... Grammars for Basque\n",
            "  [ ] biocreative_ppi..... BioCreAtIvE (Critical Assessment of Information\n",
            "                           Extraction Systems in Biology)\n",
            "  [ ] bllip_wsj_no_aux.... BLLIP Parser: WSJ Model\n",
            "  [ ] book_grammars....... Grammars from NLTK Book\n",
            "  [ ] brown............... Brown Corpus\n",
            "  [ ] brown_tei........... Brown Corpus (TEI XML Version)\n",
            "  [ ] cess_cat............ CESS-CAT Treebank\n",
            "  [ ] cess_esp............ CESS-ESP Treebank\n",
            "  [ ] chat80.............. Chat-80 Data Files\n",
            "  [ ] city_database....... City Database\n",
            "  [ ] cmudict............. The Carnegie Mellon Pronouncing Dictionary (0.6)\n",
            "  [ ] comparative_sentences Comparative Sentence Dataset\n",
            "  [ ] comtrans............ ComTrans Corpus Sample\n",
            "  [ ] conll2000........... CONLL 2000 Chunking Corpus\n",
            "  [ ] conll2002........... CONLL 2002 Named Entity Recognition Corpus\n",
            "Hit Enter to continue: \n",
            "  [ ] conll2007........... Dependency Treebanks from CoNLL 2007 (Catalan\n",
            "                           and Basque Subset)\n",
            "  [ ] crubadan............ Crubadan Corpus\n",
            "  [ ] dependency_treebank. Dependency Parsed Treebank\n",
            "  [ ] dolch............... Dolch Word List\n",
            "  [ ] europarl_raw........ Sample European Parliament Proceedings Parallel\n",
            "                           Corpus\n",
            "  [ ] floresta............ Portuguese Treebank\n",
            "  [ ] framenet_v15........ FrameNet 1.5\n",
            "  [ ] framenet_v17........ FrameNet 1.7\n",
            "  [ ] gazetteers.......... Gazeteer Lists\n",
            "  [ ] genesis............. Genesis Corpus\n",
            "  [ ] gutenberg........... Project Gutenberg Selections\n",
            "  [ ] ieer................ NIST IE-ER DATA SAMPLE\n",
            "  [ ] inaugural........... C-Span Inaugural Address Corpus\n",
            "  [ ] indian.............. Indian Language POS-Tagged Corpus\n",
            "  [ ] jeita............... JEITA Public Morphologically Tagged Corpus (in\n",
            "                           ChaSen format)\n",
            "  [ ] kimmo............... PC-KIMMO Data Files\n",
            "  [ ] knbc................ KNB Corpus (Annotated blog corpus)\n",
            "  [ ] large_grammars...... Large context-free and feature-based grammars\n",
            "                           for parser comparison\n",
            "Hit Enter to continue: \n",
            "  [ ] lin_thesaurus....... Lin's Dependency Thesaurus\n",
            "  [ ] mac_morpho.......... MAC-MORPHO: Brazilian Portuguese news text with\n",
            "                           part-of-speech tags\n",
            "  [ ] machado............. Machado de Assis -- Obra Completa\n",
            "  [ ] masc_tagged......... MASC Tagged Corpus\n",
            "  [ ] maxent_ne_chunker... ACE Named Entity Chunker (Maximum entropy)\n",
            "  [ ] maxent_treebank_pos_tagger Treebank Part of Speech Tagger (Maximum entropy)\n",
            "  [ ] moses_sample........ Moses Sample Models\n",
            "  [ ] movie_reviews....... Sentiment Polarity Dataset Version 2.0\n",
            "  [ ] mte_teip5........... MULTEXT-East 1984 annotated corpus 4.0\n",
            "  [ ] mwa_ppdb............ The monolingual word aligner (Sultan et al.\n",
            "                           2015) subset of the Paraphrase Database.\n",
            "  [ ] names............... Names Corpus, Version 1.3 (1994-03-29)\n",
            "  [ ] nombank.1.0......... NomBank Corpus 1.0\n",
            "  [ ] nonbreaking_prefixes Non-Breaking Prefixes (Moses Decoder)\n",
            "  [ ] nps_chat............ NPS Chat\n",
            "  [ ] omw................. Open Multilingual Wordnet\n",
            "  [ ] opinion_lexicon..... Opinion Lexicon\n",
            "  [ ] panlex_swadesh...... PanLex Swadesh Corpora\n",
            "  [ ] paradigms........... Paradigm Corpus\n",
            "  [ ] pe08................ Cross-Framework and Cross-Domain Parser\n",
            "                           Evaluation Shared Task\n",
            "Hit Enter to continue: \n",
            "  [ ] perluniprops........ perluniprops: Index of Unicode Version 7.0.0\n",
            "                           character properties in Perl\n",
            "  [ ] pil................. The Patient Information Leaflet (PIL) Corpus\n",
            "  [ ] pl196x.............. Polish language of the XX century sixties\n",
            "  [ ] porter_test......... Porter Stemmer Test Files\n",
            "  [ ] ppattach............ Prepositional Phrase Attachment Corpus\n",
            "  [ ] problem_reports..... Problem Report Corpus\n",
            "  [ ] product_reviews_1... Product Reviews (5 Products)\n",
            "  [ ] product_reviews_2... Product Reviews (9 Products)\n",
            "  [ ] propbank............ Proposition Bank Corpus 1.0\n",
            "  [ ] pros_cons........... Pros and Cons\n",
            "  [ ] ptb................. Penn Treebank\n",
            "  [ ] punkt............... Punkt Tokenizer Models\n",
            "  [ ] qc.................. Experimental Data for Question Classification\n",
            "  [ ] reuters............. The Reuters-21578 benchmark corpus, ApteMod\n",
            "                           version\n",
            "  [ ] rslp................ RSLP Stemmer (Removedor de Sufixos da Lingua\n",
            "                           Portuguesa)\n",
            "  [ ] rte................. PASCAL RTE Challenges 1, 2, and 3\n",
            "  [ ] sample_grammars..... Sample Grammars\n",
            "  [ ] semcor.............. SemCor 3.0\n",
            "Hit Enter to continue: \n",
            "  [ ] senseval............ SENSEVAL 2 Corpus: Sense Tagged Text\n",
            "  [ ] sentence_polarity... Sentence Polarity Dataset v1.0\n",
            "  [ ] sentiwordnet........ SentiWordNet\n",
            "  [ ] shakespeare......... Shakespeare XML Corpus Sample\n",
            "  [ ] sinica_treebank..... Sinica Treebank Corpus Sample\n",
            "  [ ] smultron............ SMULTRON Corpus Sample\n",
            "  [ ] snowball_data....... Snowball Data\n",
            "  [ ] spanish_grammars.... Grammars for Spanish\n",
            "  [ ] state_union......... C-Span State of the Union Address Corpus\n",
            "  [ ] stopwords........... Stopwords Corpus\n",
            "  [ ] subjectivity........ Subjectivity Dataset v1.0\n",
            "  [ ] swadesh............. Swadesh Wordlists\n",
            "  [ ] switchboard......... Switchboard Corpus Sample\n",
            "  [ ] tagsets............. Help on Tagsets\n",
            "  [ ] timit............... TIMIT Corpus Sample\n",
            "  [ ] toolbox............. Toolbox Sample Files\n",
            "  [ ] treebank............ Penn Treebank Sample\n",
            "  [ ] twitter_samples..... Twitter Samples\n",
            "  [ ] udhr2............... Universal Declaration of Human Rights Corpus\n",
            "                           (Unicode Version)\n",
            "  [ ] udhr................ Universal Declaration of Human Rights Corpus\n",
            "Hit Enter to continue: \n",
            "  [ ] unicode_samples..... Unicode Samples\n",
            "  [ ] universal_tagset.... Mappings to the Universal Part-of-Speech Tagset\n",
            "  [ ] universal_treebanks_v20 Universal Treebanks Version 2.0\n",
            "  [ ] vader_lexicon....... VADER Sentiment Lexicon\n",
            "  [ ] verbnet3............ VerbNet Lexicon, Version 3.3\n",
            "  [ ] verbnet............. VerbNet Lexicon, Version 2.1\n",
            "  [ ] webtext............. Web Text Corpus\n",
            "  [ ] wmt15_eval.......... Evaluation data from WMT15\n",
            "  [ ] word2vec_sample..... Word2Vec Sample\n",
            "  [ ] wordnet............. WordNet\n",
            "  [ ] wordnet_ic.......... WordNet-InfoContent\n",
            "  [ ] words............... Word Lists\n",
            "  [ ] ycoe................ York-Toronto-Helsinki Parsed Corpus of Old\n",
            "                           English Prose\n",
            "\n",
            "Collections:\n",
            "  [ ] all-corpora......... All the corpora\n",
            "  [ ] all-nltk............ All packages available on nltk_data gh-pages\n",
            "                           branch\n",
            "  [ ] all................. All packages\n",
            "  [ ] book................ Everything used in the NLTK Book\n",
            "  [ ] popular............. Popular packages\n",
            "Hit Enter to continue: \n",
            "  [ ] tests............... Packages for running tests\n",
            "  [ ] third-party......... Third-party data packages\n",
            "\n",
            "([*] marks installed packages)\n",
            "\n",
            "Download which package (l=list; x=cancel)?\n",
            "  Identifier> wordnet\n",
            "    Downloading package wordnet to /root/nltk_data...\n",
            "      Unzipping corpora/wordnet.zip.\n",
            "\n",
            "---------------------------------------------------------------------------\n",
            "    d) Download   l) List    u) Update   c) Config   h) Help   q) Quit\n",
            "---------------------------------------------------------------------------\n",
            "Downloader> q\n"
          ],
          "name": "stdout"
        },
        {
          "output_type": "execute_result",
          "data": {
            "text/plain": [
              "True"
            ]
          },
          "metadata": {
            "tags": []
          },
          "execution_count": 2
        }
      ]
    },
    {
      "cell_type": "code",
      "metadata": {
        "colab": {
          "base_uri": "https://localhost:8080/"
        },
        "id": "bMQJrX2QgPlJ",
        "outputId": "abd56585-9362-4394-db41-f878994ac3dc"
      },
      "source": [
        "from nltk.corpus import wordnet as wn\n",
        "print(\"start\")\n",
        "listnames = []\n",
        "\n",
        "for i,j in enumerate(wn.synsets('music')):\n",
        "    listnames.append(j.lemma_names())\n",
        "print (listnames)"
      ],
      "execution_count": 28,
      "outputs": [
        {
          "output_type": "stream",
          "text": [
            "start\n",
            "[['music'], ['music', 'euphony'], ['music'], ['music'], ['music', 'medicine']]\n"
          ],
          "name": "stdout"
        }
      ]
    },
    {
      "cell_type": "code",
      "metadata": {
        "colab": {
          "base_uri": "https://localhost:8080/",
          "height": 203
        },
        "id": "HcFoETlfgdFk",
        "outputId": "348d71d9-5b93-49b8-eca3-9b53b59a57ae"
      },
      "source": [
        "import pandas as pd \n",
        "\n",
        "df = pd.read_csv('data.csv', encoding='utf-8')\n",
        "\n",
        "df1 = df.drop_duplicates(['v_title'])\n",
        "\n",
        "df1.head()"
      ],
      "execution_count": 29,
      "outputs": [
        {
          "output_type": "execute_result",
          "data": {
            "text/html": [
              "<div>\n",
              "<style scoped>\n",
              "    .dataframe tbody tr th:only-of-type {\n",
              "        vertical-align: middle;\n",
              "    }\n",
              "\n",
              "    .dataframe tbody tr th {\n",
              "        vertical-align: top;\n",
              "    }\n",
              "\n",
              "    .dataframe thead th {\n",
              "        text-align: right;\n",
              "    }\n",
              "</style>\n",
              "<table border=\"1\" class=\"dataframe\">\n",
              "  <thead>\n",
              "    <tr style=\"text-align: right;\">\n",
              "      <th></th>\n",
              "      <th>Unnamed: 0</th>\n",
              "      <th>v_id</th>\n",
              "      <th>v_title</th>\n",
              "      <th>viewCount</th>\n",
              "      <th>likeCount</th>\n",
              "      <th>dislikeCount</th>\n",
              "      <th>favoriteCount</th>\n",
              "      <th>commentCount</th>\n",
              "    </tr>\n",
              "  </thead>\n",
              "  <tbody>\n",
              "    <tr>\n",
              "      <th>0</th>\n",
              "      <td>0.0</td>\n",
              "      <td>J65GxJ2v9Wg</td>\n",
              "      <td>Indian Background Flute Music: Instrumental Me...</td>\n",
              "      <td>53314025</td>\n",
              "      <td>306057</td>\n",
              "      <td>17618</td>\n",
              "      <td>0</td>\n",
              "      <td>12309</td>\n",
              "    </tr>\n",
              "    <tr>\n",
              "      <th>1</th>\n",
              "      <td>1.0</td>\n",
              "      <td>JFcgOboQZ08</td>\n",
              "      <td>DILBAR Lyrical | Satyameva Jayate |John Abraha...</td>\n",
              "      <td>1074057118</td>\n",
              "      <td>4093833</td>\n",
              "      <td>573291</td>\n",
              "      <td>0</td>\n",
              "      <td>175956</td>\n",
              "    </tr>\n",
              "    <tr>\n",
              "      <th>2</th>\n",
              "      <td>2.0</td>\n",
              "      <td>XCV7_LcEruw</td>\n",
              "      <td>Classical Indian Music</td>\n",
              "      <td>1992586</td>\n",
              "      <td>16509</td>\n",
              "      <td>781</td>\n",
              "      <td>0</td>\n",
              "      <td>1254</td>\n",
              "    </tr>\n",
              "    <tr>\n",
              "      <th>3</th>\n",
              "      <td>3.0</td>\n",
              "      <td>e8RBWkcwpjE</td>\n",
              "      <td>Hindi Melody Songs | Superhit Hindi Song | kum...</td>\n",
              "      <td>93717</td>\n",
              "      <td>371</td>\n",
              "      <td>85</td>\n",
              "      <td>0</td>\n",
              "      <td>0</td>\n",
              "    </tr>\n",
              "    <tr>\n",
              "      <th>4</th>\n",
              "      <td>4.0</td>\n",
              "      <td>En1Z1i-4_M4</td>\n",
              "      <td>Hindi Songs Unforgettable Golden Hits| Kumar S...</td>\n",
              "      <td>897866</td>\n",
              "      <td>2580</td>\n",
              "      <td>785</td>\n",
              "      <td>0</td>\n",
              "      <td>0</td>\n",
              "    </tr>\n",
              "  </tbody>\n",
              "</table>\n",
              "</div>"
            ],
            "text/plain": [
              "   Unnamed: 0         v_id  ... favoriteCount commentCount\n",
              "0         0.0  J65GxJ2v9Wg  ...             0        12309\n",
              "1         1.0  JFcgOboQZ08  ...             0       175956\n",
              "2         2.0  XCV7_LcEruw  ...             0         1254\n",
              "3         3.0  e8RBWkcwpjE  ...             0            0\n",
              "4         4.0  En1Z1i-4_M4  ...             0            0\n",
              "\n",
              "[5 rows x 8 columns]"
            ]
          },
          "metadata": {
            "tags": []
          },
          "execution_count": 29
        }
      ]
    },
    {
      "cell_type": "code",
      "metadata": {
        "colab": {
          "base_uri": "https://localhost:8080/",
          "height": 417
        },
        "id": "UF7keBKVgzLJ",
        "outputId": "23114040-3dd4-4fe5-ff92-1fa0708d818c"
      },
      "source": [
        "import pandas as pd \n",
        "import turicreate as tc\n",
        "newdf = pd.read_csv('third.csv', encoding='utf-8')\n",
        "from sklearn.utils import shuffle\n",
        "newdf = shuffle(newdf) #Shuffling the dataset in order to randomize the data\n",
        "newdf"
      ],
      "execution_count": 30,
      "outputs": [
        {
          "output_type": "execute_result",
          "data": {
            "text/html": [
              "<div>\n",
              "<style scoped>\n",
              "    .dataframe tbody tr th:only-of-type {\n",
              "        vertical-align: middle;\n",
              "    }\n",
              "\n",
              "    .dataframe tbody tr th {\n",
              "        vertical-align: top;\n",
              "    }\n",
              "\n",
              "    .dataframe thead th {\n",
              "        text-align: right;\n",
              "    }\n",
              "</style>\n",
              "<table border=\"1\" class=\"dataframe\">\n",
              "  <thead>\n",
              "    <tr style=\"text-align: right;\">\n",
              "      <th></th>\n",
              "      <th>users</th>\n",
              "      <th>v_title</th>\n",
              "      <th>Liked</th>\n",
              "    </tr>\n",
              "  </thead>\n",
              "  <tbody>\n",
              "    <tr>\n",
              "      <th>187</th>\n",
              "      <td>Rohit</td>\n",
              "      <td>ARIJIT SINGH VERSION: Bekhayali Full Song | Ka...</td>\n",
              "      <td>1</td>\n",
              "    </tr>\n",
              "    <tr>\n",
              "      <th>294</th>\n",
              "      <td>Mayank</td>\n",
              "      <td>Mast Magan FULL Video Song | 2 States | Arijit...</td>\n",
              "      <td>1</td>\n",
              "    </tr>\n",
              "    <tr>\n",
              "      <th>142</th>\n",
              "      <td>Rohit</td>\n",
              "      <td>Despacito - Indian Classical Version (feat. Pr...</td>\n",
              "      <td>1</td>\n",
              "    </tr>\n",
              "    <tr>\n",
              "      <th>321</th>\n",
              "      <td>Ajit</td>\n",
              "      <td>New Bollywood Songs 2018 - Top Hindi Songs 201...</td>\n",
              "      <td>1</td>\n",
              "    </tr>\n",
              "    <tr>\n",
              "      <th>21</th>\n",
              "      <td>Rajveer</td>\n",
              "      <td>Exquisite Afternoon Raag Bhimpalasi | Kaushiki...</td>\n",
              "      <td>1</td>\n",
              "    </tr>\n",
              "    <tr>\n",
              "      <th>...</th>\n",
              "      <td>...</td>\n",
              "      <td>...</td>\n",
              "      <td>...</td>\n",
              "    </tr>\n",
              "    <tr>\n",
              "      <th>560</th>\n",
              "      <td>Harsh</td>\n",
              "      <td>Full Song: KHAIRIYAT (BONUS TRACK) | CHHICHHOR...</td>\n",
              "      <td>1</td>\n",
              "    </tr>\n",
              "    <tr>\n",
              "      <th>432</th>\n",
              "      <td>Raj</td>\n",
              "      <td>Indian Sitar Instrumental Music 10 Hours</td>\n",
              "      <td>0</td>\n",
              "    </tr>\n",
              "    <tr>\n",
              "      <th>558</th>\n",
              "      <td>Harsh</td>\n",
              "      <td>Arijit Singh With His Soulful Performance Mirc...</td>\n",
              "      <td>1</td>\n",
              "    </tr>\n",
              "    <tr>\n",
              "      <th>306</th>\n",
              "      <td>Ajit</td>\n",
              "      <td>Hindi Melody Songs | Superhit Hindi Song | kum...</td>\n",
              "      <td>1</td>\n",
              "    </tr>\n",
              "    <tr>\n",
              "      <th>104</th>\n",
              "      <td>Rohit</td>\n",
              "      <td>Hindi Melody Songs | Superhit Hindi Song | kum...</td>\n",
              "      <td>1</td>\n",
              "    </tr>\n",
              "  </tbody>\n",
              "</table>\n",
              "<p>606 rows × 3 columns</p>\n",
              "</div>"
            ],
            "text/plain": [
              "       users                                            v_title  Liked\n",
              "187    Rohit  ARIJIT SINGH VERSION: Bekhayali Full Song | Ka...      1\n",
              "294   Mayank  Mast Magan FULL Video Song | 2 States | Arijit...      1\n",
              "142    Rohit  Despacito - Indian Classical Version (feat. Pr...      1\n",
              "321     Ajit  New Bollywood Songs 2018 - Top Hindi Songs 201...      1\n",
              "21   Rajveer  Exquisite Afternoon Raag Bhimpalasi | Kaushiki...      1\n",
              "..       ...                                                ...    ...\n",
              "560    Harsh  Full Song: KHAIRIYAT (BONUS TRACK) | CHHICHHOR...      1\n",
              "432      Raj           Indian Sitar Instrumental Music 10 Hours      0\n",
              "558    Harsh  Arijit Singh With His Soulful Performance Mirc...      1\n",
              "306     Ajit  Hindi Melody Songs | Superhit Hindi Song | kum...      1\n",
              "104    Rohit  Hindi Melody Songs | Superhit Hindi Song | kum...      1\n",
              "\n",
              "[606 rows x 3 columns]"
            ]
          },
          "metadata": {
            "tags": []
          },
          "execution_count": 30
        }
      ]
    },
    {
      "cell_type": "code",
      "metadata": {
        "colab": {
          "base_uri": "https://localhost:8080/",
          "height": 84
        },
        "id": "4NjW8LZuhCvr",
        "outputId": "c7c14faf-0e50-4b31-a5e4-d7279fffb74c"
      },
      "source": [
        "train = newdf.loc[:250,:]\n",
        "test = newdf.loc[250:,:]\n",
        "train_data = tc.SFrame(train)\n",
        "test_data = tc.SFrame(test)\n",
        "popularity_model = tc.popularity_recommender.create(train_data, user_id='users', item_id='v_title', target='Liked')"
      ],
      "execution_count": 31,
      "outputs": [
        {
          "output_type": "display_data",
          "data": {
            "text/html": [
              "<pre>Preparing data set.</pre>"
            ],
            "text/plain": [
              "Preparing data set."
            ]
          },
          "metadata": {
            "tags": []
          }
        },
        {
          "output_type": "display_data",
          "data": {
            "text/html": [
              "<pre>    Data has 499 observations with 6 users and 101 items.</pre>"
            ],
            "text/plain": [
              "    Data has 499 observations with 6 users and 101 items."
            ]
          },
          "metadata": {
            "tags": []
          }
        },
        {
          "output_type": "display_data",
          "data": {
            "text/html": [
              "<pre>    Data prepared in: 0.006413s</pre>"
            ],
            "text/plain": [
              "    Data prepared in: 0.006413s"
            ]
          },
          "metadata": {
            "tags": []
          }
        },
        {
          "output_type": "display_data",
          "data": {
            "text/html": [
              "<pre>499 observations to process; with 101 unique items.</pre>"
            ],
            "text/plain": [
              "499 observations to process; with 101 unique items."
            ]
          },
          "metadata": {
            "tags": []
          }
        }
      ]
    },
    {
      "cell_type": "code",
      "metadata": {
        "colab": {
          "base_uri": "https://localhost:8080/"
        },
        "id": "RaPxn6Rahhnz",
        "outputId": "17951ba7-389b-4cb8-c55a-f18449257d54"
      },
      "source": [
        "pip install pandas==1.1.2"
      ],
      "execution_count": 12,
      "outputs": [
        {
          "output_type": "stream",
          "text": [
            "Requirement already satisfied: pandas==1.1.2 in /usr/local/lib/python3.7/dist-packages (1.1.2)\n",
            "Requirement already satisfied: pytz>=2017.2 in /usr/local/lib/python3.7/dist-packages (from pandas==1.1.2) (2018.9)\n",
            "Requirement already satisfied: numpy>=1.15.4 in /usr/local/lib/python3.7/dist-packages (from pandas==1.1.2) (1.18.5)\n",
            "Requirement already satisfied: python-dateutil>=2.7.3 in /usr/local/lib/python3.7/dist-packages (from pandas==1.1.2) (2.8.1)\n",
            "Requirement already satisfied: six>=1.5 in /usr/local/lib/python3.7/dist-packages (from python-dateutil>=2.7.3->pandas==1.1.2) (1.15.0)\n"
          ],
          "name": "stdout"
        }
      ]
    },
    {
      "cell_type": "code",
      "metadata": {
        "colab": {
          "base_uri": "https://localhost:8080/"
        },
        "id": "yvHF5EAPiNTX",
        "outputId": "e7de5267-ae5a-498f-f26a-7db0d2f9ba2e"
      },
      "source": [
        "user_names = ['Rajveer','Rohit','Mayank','Ajit','Raj','Harsh']\n",
        "popularity_recomm = popularity_model.recommend(users=user_names,k=10)\n",
        "popularity_recomm.print_rows(num_rows=25)"
      ],
      "execution_count": 32,
      "outputs": [
        {
          "output_type": "stream",
          "text": [
            "+---------+-------------------------------+-------+------+\n",
            "|  users  |            v_title            | score | rank |\n",
            "+---------+-------------------------------+-------+------+\n",
            "| Rajveer | Agar Tum Saath Ho - Full S... |  1.0  |  1   |\n",
            "| Rajveer | Arijit Singh live lockdown... |  1.0  |  2   |\n",
            "| Rajveer | Arijit Singh&#39;s NEW SOU... |  1.0  |  3   |\n",
            "| Rajveer | Qaafirana | Kedarnath | Su... |  1.0  |  4   |\n",
            "| Rajveer | Gadar Movie All Songs juke... |  1.0  |  5   |\n",
            "| Rajveer | Hamdard Full Video Song | ... |  1.0  |  6   |\n",
            "| Rajveer | Indian Background Flute Mu... |  1.0  |  7   |\n",
            "| Rajveer | Traditional Hindu Music | ... |  1.0  |  8   |\n",
            "| Rajveer | Dil 1990 Songs  Aamir Khan... |  1.0  |  9   |\n",
            "| Rajveer | Mast Magan FULL Video Song... |  1.0  |  10  |\n",
            "|  Rohit  | Dilwale Lyrical Songs Juke... |  1.0  |  1   |\n",
            "|  Rohit  | Indian Tabla + Hang Drum M... |  1.0  |  2   |\n",
            "|  Rohit  | ARIJIT SINGH JUKEBOX 2016-... |  1.0  |  3   |\n",
            "|  Rohit  | Nina Burmi | Mishra Bhaira... |  1.0  |  4   |\n",
            "|  Rohit  | Qaafirana | Kedarnath | Su... |  1.0  |  5   |\n",
            "|  Rohit  | Jo Bheji Thi Duaa - Arijit... |  1.0  |  6   |\n",
            "|  Rohit  | Ananya - Toofaan | Farhan ... |  1.0  |  7   |\n",
            "|  Rohit  | Tum Bin Movie All Songs Ju... |  1.0  |  8   |\n",
            "|  Rohit  | Chhod Diya (Lyrics) - Arij... |  1.0  |  9   |\n",
            "|  Rohit  | New Bollywood Songs 2018 -... |  1.0  |  10  |\n",
            "|  Mayank |            v_title            |  1.0  |  1   |\n",
            "|  Mayank | Tera Fitoor Lyrical - Geni... |  1.0  |  2   |\n",
            "|  Mayank | Dilwale Dulhania Le Jayeng... |  1.0  |  3   |\n",
            "|  Mayank | Khairiyat Puncho | Dj Remi... |  1.0  |  4   |\n",
            "|  Mayank | Tum Bin Movie All Songs Ju... |  1.0  |  5   |\n",
            "+---------+-------------------------------+-------+------+\n",
            "[60 rows x 4 columns]\n",
            "\n"
          ],
          "name": "stdout"
        }
      ]
    },
    {
      "cell_type": "code",
      "metadata": {
        "colab": {
          "base_uri": "https://localhost:8080/"
        },
        "id": "CLiloC8Wi4l0",
        "outputId": "9a39db12-486b-4948-a52a-1a59b0605de5"
      },
      "source": [
        "train.groupby(by='v_title')['Liked'].mean().sort_values(ascending=False).head(20)"
      ],
      "execution_count": 33,
      "outputs": [
        {
          "output_type": "execute_result",
          "data": {
            "text/plain": [
              "v_title\n",
              "अच्छा Harmonium में कितना Keys और कितना Reed होना चाहिए | Indian Music ART                                1.0\n",
              "Indian Flute Meditation Music || Pure Positive Vibes || Instrumental Music for Meditation and Yoga        1.0\n",
              "Dil 1990 Songs  Aamir Khan, Madhuri Dixit  Popular 90&#39;s Songs  INDIAN MUSIC                           1.0\n",
              "Dil Na Jaaneya - Arijit Singh | Good Newwz | Akshay Kumar, Kareena Kapoor, Diljit, Kiara | Rochak K       1.0\n",
              "Dilwale Dulhania Le Jayenge All Songs Jukebox | Shahrukh Khan, Kajol                                      1.0\n",
              "Dilwale Lyrical Songs Jukebox With Dialogues | Ajay Devgan, Raveena Tandon | INDIAN MUSIC                 1.0\n",
              "Emayya Rama: Vizag Labs | Indian Classical Music                                                          1.0\n",
              "Exquisite Afternoon Raag Bhimpalasi | Kaushiki Chakraborty | Patiala Khayal | Music of India              1.0\n",
              "Full Song: KHAIRIYAT (BONUS TRACK) | CHHICHHORE | Sushant, Shraddha | Pritam, Amitabh B|Arijit Singh      1.0\n",
              "Full Song: Tujhe Kitna Chahne Lage | Kabir Singh | Mithoon Feat. Arijit Singh | Shahid K, Kiara A         1.0\n",
              "Gadar Movie All Songs jukebox  | 90s Hit songs |  Hindi songs jukebox                                     1.0\n",
              "Haan Main Galat - Love Aaj Kal | Kartik, Sara | Pritam | Arijit Singh | Shashwat                          1.0\n",
              "Hamdard Full Video Song | Ek Villain | Arijit Singh | Mithoon                                             1.0\n",
              "Har Dil Jo Pyar Karega 4k Hd Video Song | Salman Khan, Rani Mukherjee | Alka Yagnik, Udit Narayan         1.0\n",
              "Hawayein Lyric Video - Jab Harry Met Sejal|Shah Rukh Khan, Anushka|Arijit Singh|Pritam                    1.0\n",
              "Hindi Melody Songs | Sadabahar Gana : kumar sanu, alka yagnik &amp; udit narayan | #musical_masti         1.0\n",
              "Hindi Melody Songs | Superhit Hindi Song | kumar sanu, alka yagnik &amp; udit narayan                     1.0\n",
              "Hindi Melody Songs | Superhit Hindi Song | kumar sanu, alka yagnik &amp; udit narayan | #musical_masti    1.0\n",
              "Hindi Songs Unforgettable Golden Hits| Kumar Sanu_Alka Yagnik_Sonu Nigam_Kavita Krishanamurty_Udit N      1.0\n",
              "Hit song 1999 ke                                                                                          1.0\n",
              "Name: Liked, dtype: float64"
            ]
          },
          "metadata": {
            "tags": []
          },
          "execution_count": 33
        }
      ]
    },
    {
      "cell_type": "code",
      "metadata": {
        "colab": {
          "base_uri": "https://localhost:8080/",
          "height": 890
        },
        "id": "LTqImtjri-p0",
        "outputId": "c44ccca6-1757-43ea-ae26-1ea7d1106070"
      },
      "source": [
        "item_sim_model = tc.item_similarity_recommender.create(train_data, user_id='users', item_id='v_title', target='Liked', similarity_type='cosine')\n",
        "\n",
        "#Make Recommendations:\n",
        "item_sim_recomm = item_sim_model.recommend(users=user_names,k=10)\n",
        "item_sim_recomm.print_rows(num_rows=25)"
      ],
      "execution_count": 34,
      "outputs": [
        {
          "output_type": "display_data",
          "data": {
            "text/html": [
              "<pre>Preparing data set.</pre>"
            ],
            "text/plain": [
              "Preparing data set."
            ]
          },
          "metadata": {
            "tags": []
          }
        },
        {
          "output_type": "display_data",
          "data": {
            "text/html": [
              "<pre>    Data has 499 observations with 6 users and 101 items.</pre>"
            ],
            "text/plain": [
              "    Data has 499 observations with 6 users and 101 items."
            ]
          },
          "metadata": {
            "tags": []
          }
        },
        {
          "output_type": "display_data",
          "data": {
            "text/html": [
              "<pre>    Data prepared in: 0.006545s</pre>"
            ],
            "text/plain": [
              "    Data prepared in: 0.006545s"
            ]
          },
          "metadata": {
            "tags": []
          }
        },
        {
          "output_type": "display_data",
          "data": {
            "text/html": [
              "<pre>Training model from provided data.</pre>"
            ],
            "text/plain": [
              "Training model from provided data."
            ]
          },
          "metadata": {
            "tags": []
          }
        },
        {
          "output_type": "display_data",
          "data": {
            "text/html": [
              "<pre>Gathering per-item and per-user statistics.</pre>"
            ],
            "text/plain": [
              "Gathering per-item and per-user statistics."
            ]
          },
          "metadata": {
            "tags": []
          }
        },
        {
          "output_type": "display_data",
          "data": {
            "text/html": [
              "<pre>+--------------------------------+------------+</pre>"
            ],
            "text/plain": [
              "+--------------------------------+------------+"
            ]
          },
          "metadata": {
            "tags": []
          }
        },
        {
          "output_type": "display_data",
          "data": {
            "text/html": [
              "<pre>| Elapsed Time (Item Statistics) | % Complete |</pre>"
            ],
            "text/plain": [
              "| Elapsed Time (Item Statistics) | % Complete |"
            ]
          },
          "metadata": {
            "tags": []
          }
        },
        {
          "output_type": "display_data",
          "data": {
            "text/html": [
              "<pre>+--------------------------------+------------+</pre>"
            ],
            "text/plain": [
              "+--------------------------------+------------+"
            ]
          },
          "metadata": {
            "tags": []
          }
        },
        {
          "output_type": "display_data",
          "data": {
            "text/html": [
              "<pre>| 578us                          | 100        |</pre>"
            ],
            "text/plain": [
              "| 578us                          | 100        |"
            ]
          },
          "metadata": {
            "tags": []
          }
        },
        {
          "output_type": "display_data",
          "data": {
            "text/html": [
              "<pre>+--------------------------------+------------+</pre>"
            ],
            "text/plain": [
              "+--------------------------------+------------+"
            ]
          },
          "metadata": {
            "tags": []
          }
        },
        {
          "output_type": "display_data",
          "data": {
            "text/html": [
              "<pre>Setting up lookup tables.</pre>"
            ],
            "text/plain": [
              "Setting up lookup tables."
            ]
          },
          "metadata": {
            "tags": []
          }
        },
        {
          "output_type": "display_data",
          "data": {
            "text/html": [
              "<pre>Processing data in one pass using dense lookup tables.</pre>"
            ],
            "text/plain": [
              "Processing data in one pass using dense lookup tables."
            ]
          },
          "metadata": {
            "tags": []
          }
        },
        {
          "output_type": "display_data",
          "data": {
            "text/html": [
              "<pre>+-------------------------------------+------------------+-----------------+</pre>"
            ],
            "text/plain": [
              "+-------------------------------------+------------------+-----------------+"
            ]
          },
          "metadata": {
            "tags": []
          }
        },
        {
          "output_type": "display_data",
          "data": {
            "text/html": [
              "<pre>| Elapsed Time (Constructing Lookups) | Total % Complete | Items Processed |</pre>"
            ],
            "text/plain": [
              "| Elapsed Time (Constructing Lookups) | Total % Complete | Items Processed |"
            ]
          },
          "metadata": {
            "tags": []
          }
        },
        {
          "output_type": "stream",
          "text": [
            "+---------+-------------------------------+---------------------+------+\n",
            "|  users  |            v_title            |        score        | rank |\n",
            "+---------+-------------------------------+---------------------+------+\n",
            "| Rajveer | Traditional Hindu Music | ... |  0.6730731488710426 |  1   |\n",
            "| Rajveer | Mast Magan FULL Video Song... |  0.6730731488710426 |  2   |\n",
            "| Rajveer | Arijit Singh&#39;s NEW SOU... |  0.666851488940687  |  3   |\n",
            "| Rajveer | Arijit Singh live lockdown... |  0.6606298290103315 |  4   |\n",
            "| Rajveer | Indian Background Flute Mu... |  0.6606298290103315 |  5   |\n",
            "| Rajveer | Full Song: Tujhe Kitna Cha... |  0.573775196649942  |  6   |\n",
            "| Rajveer | Bollywood New Songs 2021 💖... |  0.5656930229750025 |  7   |\n",
            "| Rajveer | Gadar Movie All Songs juke... |  0.3425847500203604 |  8   |\n",
            "| Rajveer | Dil 1990 Songs  Aamir Khan... |  0.3392218135925661 |  9   |\n",
            "| Rajveer | Agar Tum Saath Ho - Full S... | 0.21283697651093264 |  10  |\n",
            "|  Rohit  | Nina Burmi | Mishra Bhaira... |  0.6682198790760784 |  1   |\n",
            "|  Rohit  | New Bollywood Songs 2018 -... |  0.6682198790760784 |  2   |\n",
            "|  Rohit  | Dilwale Lyrical Songs Juke... |  0.6615134144758249 |  3   |\n",
            "|  Rohit  | Indian Tabla + Hang Drum M... |  0.6615134144758249 |  4   |\n",
            "|  Rohit  | Jo Bheji Thi Duaa - Arijit... |  0.6353775541503708 |  5   |\n",
            "|  Rohit  | Best of Arijit Singhs 2019... |  0.5977098949543842 |  6   |\n",
            "|  Rohit  | Hindi Melody Songs | Sadab... |  0.514273506480378  |  7   |\n",
            "|  Rohit  | ARIJIT SINGH JUKEBOX 2016-... |  0.4162125595204242 |  8   |\n",
            "|  Rohit  | Tum Bin Movie All Songs Ju... |  0.3832404234192588 |  9   |\n",
            "|  Rohit  | Main Tera Hero | Shanivaar... |  0.2788640268437274 |  10  |\n",
            "|  Mayank | Dilwale Dulhania Le Jayeng... |  0.6416925687387766 |  1   |\n",
            "|  Mayank | Tera Fitoor Lyrical - Geni... |  0.6255282213888973 |  2   |\n",
            "|  Mayank | Arijit Singh Live MTV Indi... |  0.5896392737526491 |  3   |\n",
            "|  Mayank |  अच्छा Harmonium में कितना ... |  0.5852781275668776 |  4   |\n",
            "|  Mayank | Despacito - Indian Classic... |  0.5369245812117335 |  5   |\n",
            "+---------+-------------------------------+---------------------+------+\n",
            "[60 rows x 4 columns]\n",
            "\n"
          ],
          "name": "stdout"
        },
        {
          "output_type": "display_data",
          "data": {
            "text/html": [
              "<pre>+-------------------------------------+------------------+-----------------+</pre>"
            ],
            "text/plain": [
              "+-------------------------------------+------------------+-----------------+"
            ]
          },
          "metadata": {
            "tags": []
          }
        },
        {
          "output_type": "display_data",
          "data": {
            "text/html": [
              "<pre>| 1.449ms                             | 18               | 18              |</pre>"
            ],
            "text/plain": [
              "| 1.449ms                             | 18               | 18              |"
            ]
          },
          "metadata": {
            "tags": []
          }
        },
        {
          "output_type": "display_data",
          "data": {
            "text/html": [
              "<pre>| 4.583ms                             | 100              | 101             |</pre>"
            ],
            "text/plain": [
              "| 4.583ms                             | 100              | 101             |"
            ]
          },
          "metadata": {
            "tags": []
          }
        },
        {
          "output_type": "display_data",
          "data": {
            "text/html": [
              "<pre>+-------------------------------------+------------------+-----------------+</pre>"
            ],
            "text/plain": [
              "+-------------------------------------+------------------+-----------------+"
            ]
          },
          "metadata": {
            "tags": []
          }
        },
        {
          "output_type": "display_data",
          "data": {
            "text/html": [
              "<pre>Finalizing lookup tables.</pre>"
            ],
            "text/plain": [
              "Finalizing lookup tables."
            ]
          },
          "metadata": {
            "tags": []
          }
        },
        {
          "output_type": "display_data",
          "data": {
            "text/html": [
              "<pre>Generating candidate set for working with new users.</pre>"
            ],
            "text/plain": [
              "Generating candidate set for working with new users."
            ]
          },
          "metadata": {
            "tags": []
          }
        },
        {
          "output_type": "display_data",
          "data": {
            "text/html": [
              "<pre>Finished training in 0.005349s</pre>"
            ],
            "text/plain": [
              "Finished training in 0.005349s"
            ]
          },
          "metadata": {
            "tags": []
          }
        }
      ]
    },
    {
      "cell_type": "code",
      "metadata": {
        "colab": {
          "base_uri": "https://localhost:8080/"
        },
        "id": "ll2nqaWUjIvv",
        "outputId": "153c81b1-79c5-4dd1-9d97-f84e8aaf83b0"
      },
      "source": [
        "model_performance = tc.recommender.util.compare_models(test_data, [popularity_model, item_sim_model])"
      ],
      "execution_count": 35,
      "outputs": [
        {
          "output_type": "stream",
          "text": [
            "PROGRESS: Evaluate model M0\n",
            "\n",
            "Precision and recall summary statistics by cutoff\n",
            "+--------+----------------+----------------------+\n",
            "| cutoff | mean_precision |     mean_recall      |\n",
            "+--------+----------------+----------------------+\n",
            "|   1    |      1.0       | 0.057100983668321136 |\n",
            "|   2    |      1.0       | 0.11420196733664227  |\n",
            "|   3    |      1.0       | 0.17130295100496337  |\n",
            "|   4    |      1.0       | 0.22840393467328454  |\n",
            "|   5    |      1.0       | 0.28550491834160563  |\n",
            "|   6    |      1.0       | 0.34260590200992674  |\n",
            "|   7    |      1.0       |  0.3997068856782479  |\n",
            "|   8    |      1.0       |  0.4568078693465691  |\n",
            "|   9    |      1.0       |  0.5139088530148902  |\n",
            "|   10   |      1.0       |  0.5710098366832113  |\n",
            "+--------+----------------+----------------------+\n",
            "[10 rows x 3 columns]\n",
            "\n",
            "\n",
            "Overall RMSE: 0.14288690166235204\n",
            "\n",
            "Per User RMSE (best)\n",
            "+-------+------+-------+\n",
            "| users | rmse | count |\n",
            "+-------+------+-------+\n",
            "| Rohit | 0.0  |   24  |\n",
            "+-------+------+-------+\n",
            "[1 rows x 3 columns]\n",
            "\n",
            "\n",
            "Per User RMSE (worst)\n",
            "+-------+---------------------+-------+\n",
            "| users |         rmse        | count |\n",
            "+-------+---------------------+-------+\n",
            "| Harsh | 0.37796447300922725 |   14  |\n",
            "+-------+---------------------+-------+\n",
            "[1 rows x 3 columns]\n",
            "\n",
            "\n",
            "Per Item RMSE (best)\n",
            "+-------------------------------+------+-------+\n",
            "|            v_title            | rmse | count |\n",
            "+-------------------------------+------+-------+\n",
            "| Sapne Sajan Ke Movie All S... | 0.0  |   1   |\n",
            "+-------------------------------+------+-------+\n",
            "[1 rows x 3 columns]\n",
            "\n",
            "\n",
            "Per Item RMSE (worst)\n",
            "+-------------------------------+------+-------+\n",
            "|            v_title            | rmse | count |\n",
            "+-------------------------------+------+-------+\n",
            "| Best Of Arijit Singh And A... | 1.0  |   1   |\n",
            "+-------------------------------+------+-------+\n",
            "[1 rows x 3 columns]\n",
            "\n",
            "PROGRESS: Evaluate model M1\n",
            "\n",
            "Precision and recall summary statistics by cutoff\n",
            "+--------+----------------+----------------------+\n",
            "| cutoff | mean_precision |     mean_recall      |\n",
            "+--------+----------------+----------------------+\n",
            "|   1    |      1.0       | 0.057100983668321136 |\n",
            "|   2    |      1.0       | 0.11420196733664227  |\n",
            "|   3    |      1.0       | 0.17130295100496337  |\n",
            "|   4    |      1.0       | 0.22840393467328454  |\n",
            "|   5    |      1.0       | 0.28550491834160563  |\n",
            "|   6    |      1.0       | 0.34260590200992674  |\n",
            "|   7    |      1.0       |  0.3997068856782479  |\n",
            "|   8    |      1.0       |  0.4568078693465691  |\n",
            "|   9    |      1.0       |  0.5139088530148902  |\n",
            "|   10   |      1.0       |  0.5710098366832113  |\n",
            "+--------+----------------+----------------------+\n",
            "[10 rows x 3 columns]\n",
            "\n",
            "\n",
            "Overall RMSE: 0.6698926662848327\n",
            "\n",
            "Per User RMSE (best)\n",
            "+--------+--------------------+-------+\n",
            "| users  |        rmse        | count |\n",
            "+--------+--------------------+-------+\n",
            "| Mayank | 0.5264921203488433 |   19  |\n",
            "+--------+--------------------+-------+\n",
            "[1 rows x 3 columns]\n",
            "\n",
            "\n",
            "Per User RMSE (worst)\n",
            "+-------+--------------------+-------+\n",
            "| users |        rmse        | count |\n",
            "+-------+--------------------+-------+\n",
            "| Harsh | 0.7511780766309154 |   14  |\n",
            "+-------+--------------------+-------+\n",
            "[1 rows x 3 columns]\n",
            "\n",
            "\n",
            "Per Item RMSE (best)\n",
            "+-------------------------------+------+-------+\n",
            "|            v_title            | rmse | count |\n",
            "+-------------------------------+------+-------+\n",
            "| Sapne Sajan Ke Movie All S... | 0.0  |   1   |\n",
            "+-------------------------------+------+-------+\n",
            "[1 rows x 3 columns]\n",
            "\n",
            "\n",
            "Per Item RMSE (worst)\n",
            "+-------------------------------+--------------------+-------+\n",
            "|            v_title            |        rmse        | count |\n",
            "+-------------------------------+--------------------+-------+\n",
            "| Hindi Melody Songs | Super... | 0.9695010312061647 |   3   |\n",
            "+-------------------------------+--------------------+-------+\n",
            "[1 rows x 3 columns]\n",
            "\n"
          ],
          "name": "stdout"
        }
      ]
    }
  ]
}